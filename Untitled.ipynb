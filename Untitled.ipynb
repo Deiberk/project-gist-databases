{
 "cells": [
  {
   "cell_type": "code",
   "execution_count": 1,
   "metadata": {},
   "outputs": [],
   "source": [
    "import requests"
   ]
  },
  {
   "cell_type": "code",
   "execution_count": 35,
   "metadata": {},
   "outputs": [],
   "source": [
    "r = requests.get('https://api.github.com/users/jhfkghfkjhgkjhgkjhgjkh/gists')"
   ]
  },
  {
   "cell_type": "code",
   "execution_count": 36,
   "metadata": {},
   "outputs": [],
   "source": [
    "gists = r.json()"
   ]
  },
  {
   "cell_type": "code",
   "execution_count": 37,
   "metadata": {},
   "outputs": [
    {
     "data": {
      "text/plain": [
       "{'message': 'Not Found',\n",
       " 'documentation_url': 'https://developer.github.com/v3/gists/#list-a-users-gists'}"
      ]
     },
     "execution_count": 37,
     "metadata": {},
     "output_type": "execute_result"
    }
   ],
   "source": [
    "gists"
   ]
  },
  {
   "cell_type": "code",
   "execution_count": 11,
   "metadata": {},
   "outputs": [],
   "source": [
    "blank_list = []"
   ]
  },
  {
   "cell_type": "code",
   "execution_count": 38,
   "metadata": {},
   "outputs": [
    {
     "data": {
      "text/plain": [
       "404"
      ]
     },
     "execution_count": 38,
     "metadata": {},
     "output_type": "execute_result"
    }
   ],
   "source": [
    "r.status_code"
   ]
  },
  {
   "cell_type": "code",
   "execution_count": 18,
   "metadata": {},
   "outputs": [
    {
     "data": {
      "text/plain": [
       "{'url': 'https://api.github.com/gists/aa3da26e340c898e2b372eaa44eea494',\n",
       " 'forks_url': 'https://api.github.com/gists/aa3da26e340c898e2b372eaa44eea494/forks',\n",
       " 'commits_url': 'https://api.github.com/gists/aa3da26e340c898e2b372eaa44eea494/commits',\n",
       " 'id': 'aa3da26e340c898e2b372eaa44eea494',\n",
       " 'node_id': 'MDQ6R2lzdGFhM2RhMjZlMzQwYzg5OGUyYjM3MmVhYTQ0ZWVhNDk0',\n",
       " 'git_pull_url': 'https://gist.github.com/aa3da26e340c898e2b372eaa44eea494.git',\n",
       " 'git_push_url': 'https://gist.github.com/aa3da26e340c898e2b372eaa44eea494.git',\n",
       " 'html_url': 'https://gist.github.com/aa3da26e340c898e2b372eaa44eea494',\n",
       " 'files': {'jupyter_ipython_unittest.ipynb': {'filename': 'jupyter_ipython_unittest.ipynb',\n",
       "   'type': 'text/plain',\n",
       "   'language': 'Jupyter Notebook',\n",
       "   'raw_url': 'https://gist.githubusercontent.com/Aylr/aa3da26e340c898e2b372eaa44eea494/raw/9c8e2bc1eb35f3b5d368743e575e1fd44d33ff71/jupyter_ipython_unittest.ipynb',\n",
       "   'size': 3345}},\n",
       " 'public': True,\n",
       " 'created_at': '2018-04-01T13:41:16Z',\n",
       " 'updated_at': '2018-04-01T13:41:16Z',\n",
       " 'description': 'Example of how to use unittest in IPython or Jupyter',\n",
       " 'comments': 0,\n",
       " 'user': None,\n",
       " 'comments_url': 'https://api.github.com/gists/aa3da26e340c898e2b372eaa44eea494/comments',\n",
       " 'owner': {'login': 'Aylr',\n",
       "  'id': 928247,\n",
       "  'node_id': 'MDQ6VXNlcjkyODI0Nw==',\n",
       "  'avatar_url': 'https://avatars1.githubusercontent.com/u/928247?v=4',\n",
       "  'gravatar_id': '',\n",
       "  'url': 'https://api.github.com/users/Aylr',\n",
       "  'html_url': 'https://github.com/Aylr',\n",
       "  'followers_url': 'https://api.github.com/users/Aylr/followers',\n",
       "  'following_url': 'https://api.github.com/users/Aylr/following{/other_user}',\n",
       "  'gists_url': 'https://api.github.com/users/Aylr/gists{/gist_id}',\n",
       "  'starred_url': 'https://api.github.com/users/Aylr/starred{/owner}{/repo}',\n",
       "  'subscriptions_url': 'https://api.github.com/users/Aylr/subscriptions',\n",
       "  'organizations_url': 'https://api.github.com/users/Aylr/orgs',\n",
       "  'repos_url': 'https://api.github.com/users/Aylr/repos',\n",
       "  'events_url': 'https://api.github.com/users/Aylr/events{/privacy}',\n",
       "  'received_events_url': 'https://api.github.com/users/Aylr/received_events',\n",
       "  'type': 'User',\n",
       "  'site_admin': False},\n",
       " 'truncated': False}"
      ]
     },
     "execution_count": 18,
     "metadata": {},
     "output_type": "execute_result"
    }
   ],
   "source": [
    "gists[0]"
   ]
  },
  {
   "cell_type": "code",
   "execution_count": 22,
   "metadata": {},
   "outputs": [
    {
     "data": {
      "text/plain": [
       "[{'github_id': 'Aylr',\n",
       "  'html_url': 'https://gist.github.com/aa3da26e340c898e2b372eaa44eea494',\n",
       "  'git_pull_url': 'https://gist.github.com/aa3da26e340c898e2b372eaa44eea494.git',\n",
       "  'git_push_url': 'https://gist.github.com/aa3da26e340c898e2b372eaa44eea494.git',\n",
       "  'commits_url': 'https://api.github.com/gists/aa3da26e340c898e2b372eaa44eea494/commits',\n",
       "  'forks_url': 'https://api.github.com/gists/aa3da26e340c898e2b372eaa44eea494/forks',\n",
       "  'public': True,\n",
       "  'created_at': '2018-04-01T13:41:16Z',\n",
       "  'updated_at': '2018-04-01T13:41:16Z',\n",
       "  'comments': 0,\n",
       "  'comments_url': 'https://api.github.com/gists/aa3da26e340c898e2b372eaa44eea494/comments'},\n",
       " {'github_id': 'Aylr',\n",
       "  'html_url': 'https://gist.github.com/f6e9a9e3def45ac35ec88d2f3ff0eeb9',\n",
       "  'git_pull_url': 'https://gist.github.com/f6e9a9e3def45ac35ec88d2f3ff0eeb9.git',\n",
       "  'git_push_url': 'https://gist.github.com/f6e9a9e3def45ac35ec88d2f3ff0eeb9.git',\n",
       "  'commits_url': 'https://api.github.com/gists/f6e9a9e3def45ac35ec88d2f3ff0eeb9/commits',\n",
       "  'forks_url': 'https://api.github.com/gists/f6e9a9e3def45ac35ec88d2f3ff0eeb9/forks',\n",
       "  'public': True,\n",
       "  'created_at': '2017-11-02T18:51:07Z',\n",
       "  'updated_at': '2018-07-05T16:28:05Z',\n",
       "  'comments': 0,\n",
       "  'comments_url': 'https://api.github.com/gists/f6e9a9e3def45ac35ec88d2f3ff0eeb9/comments'}]"
      ]
     },
     "execution_count": 22,
     "metadata": {},
     "output_type": "execute_result"
    }
   ],
   "source": [
    "blank_list = []\n",
    "for gist in gists:\n",
    "    blank_list.append({\n",
    "        'github_id':gist['owner']['login'], \n",
    "        \"html_url\":gist['html_url'],\n",
    "        \"git_pull_url\":gist['git_pull_url'],\n",
    "        'git_push_url':gist['git_push_url'],\n",
    "        \"commits_url\":gist['commits_url'],\n",
    "        \"forks_url\":gist[\"forks_url\"],\n",
    "        'public':gist['public'],\n",
    "        'created_at':gist['created_at'],\n",
    "        'updated_at':gist['updated_at'],\n",
    "        'comments':gist['comments'],\n",
    "        'comments_url':gist['comments_url']\n",
    "        })\n",
    "blank_list"
   ]
  },
  {
   "cell_type": "markdown",
   "metadata": {},
   "source": []
  },
  {
   "cell_type": "code",
   "execution_count": 33,
   "metadata": {},
   "outputs": [],
   "source": [
    "import requests\n",
    "\n",
    "def import_gists_to_database(db, username, commit=True):\n",
    "    r = requests.get('https://api.github.com/users/{}/gists'.format(username))\n",
    "    gists = r.json()\n",
    "#     return gists\n",
    "    for gist in gists:\n",
    "        db.execute(\"\"\"insert into gists(github_id, html_url, git_pull_url, git_push_url, commits_url, forks_url, public, created_at, updated_at, comments, comments_url)\n",
    "\tvalues(?,?,?,?,?,?,?,?,?,?,?)\"\"\",\n",
    "    \n",
    "        [gist['owner']['login'], \n",
    "        gist['html_url'],\n",
    "        gist['git_pull_url'],\n",
    "        gist['git_push_url'],\n",
    "        gist['commits_url'],\n",
    "        gist[\"forks_url\"],\n",
    "        gist['public'],\n",
    "        gist['created_at'],\n",
    "        gist['updated_at'],\n",
    "        gist['comments'],\n",
    "        gist['comments_url']])\n",
    "    db.commit()"
   ]
  },
  {
   "cell_type": "code",
   "execution_count": 31,
   "metadata": {},
   "outputs": [
    {
     "data": {
      "text/plain": [
       "<sqlite3.Cursor at 0x7f36791b0f10>"
      ]
     },
     "execution_count": 31,
     "metadata": {},
     "output_type": "execute_result"
    }
   ],
   "source": [
    "import sqlite3\n",
    "conn = sqlite3.connect('foo.db')\n",
    "conn.execute('''\n",
    "CREATE TABLE gists (\n",
    "  id INTEGER PRIMARY KEY autoincrement,\n",
    "  github_id TEXT NOT NULL,\n",
    "  html_url TEXT NOT NULL,\n",
    "\n",
    "  git_pull_url TEXT NOT NULL,\n",
    "  git_push_url TEXT NOT NULL,\n",
    "\n",
    "  commits_url TEXT NOT NULL,\n",
    "  forks_url TEXT NOT NULL,\n",
    "\n",
    "  public BOOLEAN NOT NULL,\n",
    "\n",
    "  created_at DATETIME NOT NULL,\n",
    "  updated_at DATETIME NOT NULL,\n",
    "\n",
    "  comments INTEGER NOT NULL,\n",
    "  comments_url TEXT NOT NULL\n",
    ");\n",
    "''')"
   ]
  },
  {
   "cell_type": "code",
   "execution_count": 34,
   "metadata": {},
   "outputs": [],
   "source": [
    "import_gists_to_database(conn, 'Aylr')\n"
   ]
  },
  {
   "cell_type": "code",
   "execution_count": null,
   "metadata": {},
   "outputs": [],
   "source": []
  },
  {
   "cell_type": "code",
   "execution_count": null,
   "metadata": {},
   "outputs": [],
   "source": []
  }
 ],
 "metadata": {
  "kernelspec": {
   "display_name": "Python 3",
   "language": "python",
   "name": "python3"
  },
  "language_info": {
   "codemirror_mode": {
    "name": "ipython",
    "version": 3
   },
   "file_extension": ".py",
   "mimetype": "text/x-python",
   "name": "python",
   "nbconvert_exporter": "python",
   "pygments_lexer": "ipython3",
   "version": "3.6.8"
  }
 },
 "nbformat": 4,
 "nbformat_minor": 2
}
